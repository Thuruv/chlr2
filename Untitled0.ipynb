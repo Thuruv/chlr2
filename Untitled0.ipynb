{
 "metadata": {
  "name": "",
  "signature": "sha256:8e10116f75085050e84d13d5ea40c0e733f4dcbc20f284f6400f9f4f1d5e084f"
 },
 "nbformat": 3,
 "nbformat_minor": 0,
 "worksheets": [
  {
   "cells": [
    {
     "cell_type": "code",
     "collapsed": false,
     "input": [
      "c = Report.objects.filter(worker = 'Thiliban',process = 'Ideeli')"
     ],
     "language": "python",
     "metadata": {},
     "outputs": [],
     "prompt_number": 1
    },
    {
     "cell_type": "code",
     "collapsed": false,
     "input": [
      "Report.objects.filter(worker = 'Thiliban',process = 'Ideeli')"
     ],
     "language": "python",
     "metadata": {},
     "outputs": [
      {
       "metadata": {},
       "output_type": "pyout",
       "prompt_number": 8,
       "text": [
        "[<Report: Thiliban>, <Report: Thiliban>]"
       ]
      }
     ],
     "prompt_number": 8
    },
    {
     "cell_type": "code",
     "collapsed": false,
     "input": [
      "m = [[i.errorz,i.count] for i in Report.objects.filter(worker = 'Thiliban') if i.errorz ==0]\n",
      "#x = [m[0][i] for i,j in enumerate(m)]\n",
      "from django.db import connection\n",
      "from django.db.models import *"
     ],
     "language": "python",
     "metadata": {},
     "outputs": [],
     "prompt_number": 49
    },
    {
     "cell_type": "code",
     "collapsed": false,
     "input": [
      "Report.objects.all().\\\n",
      "        annotate(q_items=Avg('quality'))"
     ],
     "language": "python",
     "metadata": {},
     "outputs": [
      {
       "metadata": {},
       "output_type": "pyout",
       "prompt_number": 56,
       "text": [
        "[<Report: Sathish>, <Report: Ramachandran>, <Report: Venkat>, <Report: Madhan>, <Report: Gayathri>, <Report: Aamir Khan>, <Report: Gayathri>, <Report: Prathiba>, <Report: Madhan>, <Report: Madhan>, <Report: Sathish>, <Report: Ramachandran>, <Report: Prathiba>, <Report: Aamir Khan>, <Report: Prathiba>, <Report: Prathiba>, <Report: Aamir Khan>, <Report: Venkat>, <Report: Soniya>, <Report: Prathiba>, '...(remaining elements truncated)...']"
       ]
      }
     ],
     "prompt_number": 56
    },
    {
     "cell_type": "code",
     "collapsed": false,
     "input": [
      "sales = Report.objects.all().aggregate(Count('process'), Avg('quality'))"
     ],
     "language": "python",
     "metadata": {},
     "outputs": [],
     "prompt_number": 57
    },
    {
     "cell_type": "code",
     "collapsed": false,
     "input": [
      "Report.objects.all().values('worker').annotate(Quality=Avg('quality'))"
     ],
     "language": "python",
     "metadata": {},
     "outputs": [
      {
       "metadata": {},
       "output_type": "pyout",
       "prompt_number": 66,
       "text": [
        "[{'Quality': 99.97628930817609, 'worker': u'Aamir Khan'}, {'Quality': 99.9909900990099, 'worker': u'Aqhil Mohammad'}, {'Quality': 99.99942857142857, 'worker': u'Gayathri'}, {'Quality': 100.0, 'worker': u'Karthick'}, {'Quality': 99.95491228070175, 'worker': u'Madhan'}, {'Quality': 99.73223404255319, 'worker': u'Pradeep Anand'}, {'Quality': 99.99065789473683, 'worker': u'Prathiba'}, {'Quality': 99.9456507936508, 'worker': u'Ramachandran'}, {'Quality': 99.9752, 'worker': u'Sathish'}, {'Quality': 99.99269230769231, 'worker': u'Soniya'}, {'Quality': 99.96885375494071, 'worker': u'Thiliban'}, {'Quality': 99.98440000000001, 'worker': u'Venkat'}]"
       ]
      }
     ],
     "prompt_number": 66
    },
    {
     "cell_type": "code",
     "collapsed": false,
     "input": [
      "for i in Report.objects.all().values('worker').annotate(Quality=Avg('quality')):\n",
      "    print i"
     ],
     "language": "python",
     "metadata": {},
     "outputs": [
      {
       "output_type": "stream",
       "stream": "stdout",
       "text": [
        "{'Quality': 99.97628930817609, 'worker': u'Aamir Khan'}\n",
        "{'Quality': 99.9909900990099, 'worker': u'Aqhil Mohammad'}\n",
        "{'Quality': 99.99942857142857, 'worker': u'Gayathri'}\n",
        "{'Quality': 99.99962264150943, 'worker': u'Karthick'}\n",
        "{'Quality': 99.95491228070175, 'worker': u'Madhan'}\n",
        "{'Quality': 99.73223404255319, 'worker': u'Pradeep Anand'}\n",
        "{'Quality': 99.99065789473683, 'worker': u'Prathiba'}\n",
        "{'Quality': 99.9456507936508, 'worker': u'Ramachandran'}\n",
        "{'Quality': 99.9752, 'worker': u'Sathish'}\n",
        "{'Quality': 99.99269230769231, 'worker': u'Soniya'}\n",
        "{'Quality': 99.96885375494071, 'worker': u'Thiliban'}\n",
        "{'Quality': 99.98440000000001, 'worker': u'Venkat'}\n"
       ]
      }
     ],
     "prompt_number": 68
    },
    {
     "cell_type": "code",
     "collapsed": false,
     "input": [],
     "language": "python",
     "metadata": {},
     "outputs": []
    }
   ],
   "metadata": {}
  }
 ]
}